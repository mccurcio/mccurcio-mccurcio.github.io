{
 "cells": [
  {
   "cell_type": "markdown",
   "id": "05162ddf",
   "metadata": {},
   "source": [
    "### This Python code produces a randomly chosen word password of any given length.\n",
    "\n",
    "- Linux Mint dictionaries are commonly placed `/usr/share/dict`. You may need to insert your own dictionary location."
   ]
  },
  {
   "cell_type": "code",
   "execution_count": 3,
   "id": "08a5345b",
   "metadata": {},
   "outputs": [
    {
     "data": {
      "text/plain": [
       "'Websters-conducting-attitudinizes'"
      ]
     },
     "execution_count": 3,
     "metadata": {},
     "output_type": "execute_result"
    }
   ],
   "source": [
    "import random\n",
    "\n",
    "words = open('/usr/share/dict/words').read().split()\n",
    "\"-\".join([random.choice(words) for _ in range(3)])"
   ]
  },
  {
   "cell_type": "markdown",
   "id": "3b4c1d0d",
   "metadata": {},
   "source": [
    "### I insert random numbers between the words."
   ]
  },
  {
   "cell_type": "code",
   "execution_count": null,
   "id": "a2d2e0b3",
   "metadata": {},
   "outputs": [],
   "source": []
  }
 ],
 "metadata": {
  "kernelspec": {
   "display_name": "Python 3 (ipykernel)",
   "language": "python",
   "name": "python3"
  },
  "language_info": {
   "codemirror_mode": {
    "name": "ipython",
    "version": 3
   },
   "file_extension": ".py",
   "mimetype": "text/x-python",
   "name": "python",
   "nbconvert_exporter": "python",
   "pygments_lexer": "ipython3",
   "version": "3.9.7"
  }
 },
 "nbformat": 4,
 "nbformat_minor": 5
}
