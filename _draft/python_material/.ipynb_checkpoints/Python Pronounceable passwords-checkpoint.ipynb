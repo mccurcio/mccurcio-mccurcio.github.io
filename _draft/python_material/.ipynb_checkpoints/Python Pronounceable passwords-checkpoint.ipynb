{
 "cells": [
  {
   "cell_type": "markdown",
   "id": "f7ac7893",
   "metadata": {},
   "source": [
    "### This Python code produces a randomly chosen word password of any given length.\n",
    "\n",
    "- Linux Mint dictionaries are commonly placed `/usr/share/dict`. You may need yo insert your own dictionary location."
   ]
  },
  {
   "cell_type": "code",
   "execution_count": 2,
   "id": "f8df745b",
   "metadata": {},
   "outputs": [
    {
     "data": {
      "text/plain": [
       "\"prospering-conclave's-Hollands\""
      ]
     },
     "execution_count": 2,
     "metadata": {},
     "output_type": "execute_result"
    }
   ],
   "source": [
    "import random\n",
    "\n",
    "words = open('/usr/share/dict/words').read().split()\n",
    "\"-\".join([random.choice(words) for _ in range(3)])"
   ]
  },
  {
   "cell_type": "markdown",
   "id": "791f1c66",
   "metadata": {},
   "source": [
    "### I insert random numbers between the words."
   ]
  },
  {
   "cell_type": "code",
   "execution_count": null,
   "id": "4cf961ab",
   "metadata": {},
   "outputs": [],
   "source": []
  }
 ],
 "metadata": {
  "kernelspec": {
   "display_name": "Python 3 (ipykernel)",
   "language": "python",
   "name": "python3"
  },
  "language_info": {
   "codemirror_mode": {
    "name": "ipython",
    "version": 3
   },
   "file_extension": ".py",
   "mimetype": "text/x-python",
   "name": "python",
   "nbconvert_exporter": "python",
   "pygments_lexer": "ipython3",
   "version": "3.9.7"
  }
 },
 "nbformat": 4,
 "nbformat_minor": 5
}
