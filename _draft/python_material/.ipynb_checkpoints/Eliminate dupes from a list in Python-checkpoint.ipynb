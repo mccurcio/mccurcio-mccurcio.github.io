{
 "cells": [
  {
   "cell_type": "markdown",
   "id": "bae1bf85",
   "metadata": {},
   "source": [
    "Eliminate dupes from a list in Python\n",
    "\n",
    "Method 1"
   ]
  },
  {
   "cell_type": "code",
   "execution_count": 1,
   "id": "65c3e71c",
   "metadata": {},
   "outputs": [
    {
     "data": {
      "text/plain": [
       "[64, 1, 2, 3, 4, 5, 45, 78, 54, 56, 89]"
      ]
     },
     "execution_count": 1,
     "metadata": {},
     "output_type": "execute_result"
    }
   ],
   "source": [
    "duplicate_list = [1, 2, 3, 5, 56, 78, 89, 1, 56, 4, 64, 2, 45, 3, 54, 1, 2]\n",
    "\n",
    "cleaned_list = list(set(duplicate_list))\n",
    "\n",
    "cleaned_list"
   ]
  },
  {
   "cell_type": "markdown",
   "id": "2d6f9c31",
   "metadata": {},
   "source": [
    "Method 2"
   ]
  },
  {
   "cell_type": "code",
   "execution_count": 3,
   "id": "b20e2273",
   "metadata": {},
   "outputs": [
    {
     "data": {
      "text/plain": [
       "{1: None,\n",
       " 2: None,\n",
       " 3: None,\n",
       " 5: None,\n",
       " 56: None,\n",
       " 78: None,\n",
       " 89: None,\n",
       " 4: None,\n",
       " 64: None,\n",
       " 45: None,\n",
       " 54: None}"
      ]
     },
     "execution_count": 3,
     "metadata": {},
     "output_type": "execute_result"
    }
   ],
   "source": [
    "method_2 = dict.fromkeys(duplicate_list)\n",
    "\n",
    "method_2"
   ]
  },
  {
   "cell_type": "code",
   "execution_count": 4,
   "id": "72c2275b",
   "metadata": {},
   "outputs": [
    {
     "data": {
      "text/plain": [
       "[1, 2, 3, 5, 56, 78, 89, 4, 64, 45, 54]"
      ]
     },
     "execution_count": 4,
     "metadata": {},
     "output_type": "execute_result"
    }
   ],
   "source": [
    "cleaned_2 = list(dict.fromkeys(duplicate_list))\n",
    "\n",
    "cleaned_2"
   ]
  },
  {
   "cell_type": "markdown",
   "id": "a811b68f",
   "metadata": {},
   "source": [
    "Method 2 maintains the order of the original list"
   ]
  }
 ],
 "metadata": {
  "kernelspec": {
   "display_name": "Python 3 (ipykernel)",
   "language": "python",
   "name": "python3"
  },
  "language_info": {
   "codemirror_mode": {
    "name": "ipython",
    "version": 3
   },
   "file_extension": ".py",
   "mimetype": "text/x-python",
   "name": "python",
   "nbconvert_exporter": "python",
   "pygments_lexer": "ipython3",
   "version": "3.9.7"
  }
 },
 "nbformat": 4,
 "nbformat_minor": 5
}
