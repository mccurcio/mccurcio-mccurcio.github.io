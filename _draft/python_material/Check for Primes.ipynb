{
 "cells": [
  {
   "cell_type": "code",
   "execution_count": 10,
   "id": "f2d575af",
   "metadata": {},
   "outputs": [
    {
     "name": "stdout",
     "output_type": "stream",
     "text": [
      "Enter the number: 4557\n",
      "Is 4557 Prime?\n",
      "4557 is not a prime number\n"
     ]
    }
   ],
   "source": [
    "import math \n",
    "\n",
    "flag = 1\n",
    "n = int(input('Enter the number: '))\n",
    "print('Is',n, 'Prime?')\n",
    "upper_limit = math.floor(math.sqrt(n))\n",
    "\n",
    "for i in range(2, upper_limit):\n",
    "    if(n%i == 0):\n",
    "        print('%d is not a prime number' %n)\n",
    "        flag = 0\n",
    "        break\n",
    "if(flag == 1):\n",
    "    print('%d is a prime number' %n)"
   ]
  }
 ],
 "metadata": {
  "kernelspec": {
   "display_name": "Python 3 (ipykernel)",
   "language": "python",
   "name": "python3"
  },
  "language_info": {
   "codemirror_mode": {
    "name": "ipython",
    "version": 3
   },
   "file_extension": ".py",
   "mimetype": "text/x-python",
   "name": "python",
   "nbconvert_exporter": "python",
   "pygments_lexer": "ipython3",
   "version": "3.9.7"
  }
 },
 "nbformat": 4,
 "nbformat_minor": 5
}
